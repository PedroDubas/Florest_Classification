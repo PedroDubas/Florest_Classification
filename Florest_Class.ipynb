{
  "nbformat": 4,
  "nbformat_minor": 0,
  "metadata": {
    "colab": {
      "name": "Florest_Class.ipynb",
      "version": "0.3.2",
      "provenance": [],
      "collapsed_sections": [],
      "include_colab_link": true
    },
    "kernelspec": {
      "display_name": "Python 3",
      "language": "python",
      "name": "python3"
    },
    "language_info": {
      "codemirror_mode": {
        "name": "ipython",
        "version": 3
      },
      "file_extension": ".py",
      "mimetype": "text/x-python",
      "name": "python",
      "nbconvert_exporter": "python",
      "pygments_lexer": "ipython3",
      "version": "3.6.3"
    }
  },
  "cells": [
    {
      "cell_type": "markdown",
      "metadata": {
        "id": "view-in-github",
        "colab_type": "text"
      },
      "source": [
        "<a href=\"https://colab.research.google.com/github/PedroDubas/Forest_Classification/blob/master/Florest_Class.ipynb\" target=\"_parent\"><img src=\"https://colab.research.google.com/assets/colab-badge.svg\" alt=\"Open In Colab\"/></a>"
      ]
    },
    {
      "cell_type": "code",
      "metadata": {
        "colab_type": "code",
        "id": "MAYuocV-_9MW",
        "colab": {}
      },
      "source": [
        "!mkdir /root/.kaggle\n",
        "meu_json = '{\"username\":\"kleyer\",\"key\":\"b986abecaefe13f01f8073272b3c6f7e\"}'\n",
        "with open('/root/.kaggle/kaggle.json', 'w+') as f:\n",
        "    f.write(meu_json)"
      ],
      "execution_count": 0,
      "outputs": []
    },
    {
      "cell_type": "code",
      "metadata": {
        "colab_type": "code",
        "collapsed": true,
        "id": "YAiKdpUC_9j6",
        "outputId": "f7aebfaf-f9b4-428d-d2ed-9803c38068da",
        "colab": {
          "base_uri": "https://localhost:8080/",
          "height": 191
        }
      },
      "source": [
        "!kaggle competitions download -c forest-cover-type-prediction"
      ],
      "execution_count": 3,
      "outputs": [
        {
          "output_type": "stream",
          "text": [
            "Warning: Your Kaggle API key is readable by other users on this system! To fix this, you can run 'chmod 600 /root/.kaggle/kaggle.json'\n",
            "Downloading sampleSubmission.csv.zip to /content\n",
            "\r  0% 0.00/1.19M [00:00<?, ?B/s]\n",
            "100% 1.19M/1.19M [00:00<00:00, 38.9MB/s]\n",
            "Downloading test.csv.zip to /content\n",
            " 44% 5.00M/11.5M [00:00<00:00, 19.7MB/s]\n",
            "100% 11.5M/11.5M [00:00<00:00, 37.5MB/s]\n",
            "Downloading train.csv.zip to /content\n",
            "  0% 0.00/333k [00:00<?, ?B/s]\n",
            "100% 333k/333k [00:00<00:00, 99.8MB/s]\n"
          ],
          "name": "stdout"
        }
      ]
    },
    {
      "cell_type": "code",
      "metadata": {
        "colab_type": "code",
        "collapsed": true,
        "id": "taMlL6Kq__v5",
        "outputId": "e75c85e6-ac5c-4141-bc91-9420491ce126",
        "colab": {
          "base_uri": "https://localhost:8080/",
          "height": 87
        }
      },
      "source": [
        "!unzip \"train.csv.zip\"\n",
        "!unzip \"test.csv.zip\""
      ],
      "execution_count": 8,
      "outputs": [
        {
          "output_type": "stream",
          "text": [
            "Archive:  train.csv.zip\n",
            "  inflating: train.csv               \n",
            "Archive:  test.csv.zip\n",
            "  inflating: test.csv                \n"
          ],
          "name": "stdout"
        }
      ]
    },
    {
      "cell_type": "code",
      "metadata": {
        "colab_type": "code",
        "id": "3hX-YyyYABHg",
        "outputId": "6fae3141-b749-4bca-ded5-94d50e1183ef",
        "colab": {
          "base_uri": "https://localhost:8080/",
          "height": 173
        }
      },
      "source": [
        "import sys \n",
        "print(\"Python version: {}\". format(sys.version))\n",
        "\n",
        "import pandas as pd \n",
        "print(\"pandas version: {}\". format(pd.__version__))\n",
        "\n",
        "import matplotlib.pyplot as plt\n",
        "import matplotlib\n",
        "print(\"matplotlib version: {}\". format(matplotlib.__version__))\n",
        "\n",
        "import numpy as np \n",
        "print(\"NumPy version: {}\". format(np.__version__))\n",
        "\n",
        "import scipy as sp \n",
        "print(\"SciPy version: {}\". format(sp.__version__)) \n",
        "\n",
        "import IPython\n",
        "from IPython import display \n",
        "print(\"IPython version: {}\". format(IPython.__version__)) \n",
        "\n",
        "from sklearn.ensemble import RandomForestClassifier\n",
        "from sklearn.metrics import accuracy_score,make_scorer,f1_score, auc, roc_curve, roc_auc_score\n",
        "from sklearn.model_selection import GridSearchCV , KFold,train_test_split, StratifiedKFold, GridSearchCV, cross_val_score\n",
        "from sklearn.preprocessing import LabelEncoder\n",
        "from sklearn import ensemble, tree, svm, naive_bayes, neighbors, linear_model, gaussian_process, neural_network\n",
        "from sklearn.metrics import confusion_matrix\n",
        "from sklearn.preprocessing import label_binarize\n",
        "from sklearn.utils.multiclass import unique_labels\n",
        "import sklearn \n",
        "print(\"scikit-learn version: {}\". format(sklearn.__version__))\n",
        "\n",
        "import re\n",
        "print(\"re version: {}\". format(re.__version__))\n",
        "\n",
        "import seaborn as sns\n",
        "\n",
        "from collections import Counter\n",
        "\n",
        "import xgboost as xgb\n",
        "from xgboost.sklearn import XGBClassifier\n",
        "\n",
        "#misc libraries\n",
        "import random\n",
        "import time\n",
        "\n",
        "from itertools import cycle\n",
        "\n",
        "\n",
        "import warnings\n",
        "warnings.filterwarnings('ignore')"
      ],
      "execution_count": 9,
      "outputs": [
        {
          "output_type": "stream",
          "text": [
            "Python version: 3.6.8 (default, Jan 14 2019, 11:02:34) \n",
            "[GCC 8.0.1 20180414 (experimental) [trunk revision 259383]]\n",
            "pandas version: 0.24.2\n",
            "matplotlib version: 3.0.3\n",
            "NumPy version: 1.16.4\n",
            "SciPy version: 1.3.0\n",
            "IPython version: 5.5.0\n",
            "scikit-learn version: 0.21.3\n",
            "re version: 2.2.1\n"
          ],
          "name": "stdout"
        }
      ]
    },
    {
      "cell_type": "code",
      "metadata": {
        "colab_type": "code",
        "collapsed": true,
        "id": "GH3C-DqyACZX",
        "outputId": "2de6e265-e15c-4267-d118-a4048dbf0cb4",
        "colab": {
          "base_uri": "https://localhost:8080/",
          "height": 69
        }
      },
      "source": [
        "test = pd.read_csv(\"test.csv\")\n",
        "train = pd.read_csv(\"train.csv\")\n",
        "\n",
        "fulldata = test\n",
        "fulldata= fulldata.append(train)\n",
        "\n",
        "print(\"Teste: {}\\nTreino: {}\\nFull_data:{}\".format(test.shape,train.shape,fulldata.shape))"
      ],
      "execution_count": 10,
      "outputs": [
        {
          "output_type": "stream",
          "text": [
            "Teste: (565892, 55)\n",
            "Treino: (15120, 56)\n",
            "Full_data:(581012, 56)\n"
          ],
          "name": "stdout"
        }
      ]
    },
    {
      "cell_type": "code",
      "metadata": {
        "colab_type": "code",
        "collapsed": true,
        "id": "cuHG8oSlAEQU",
        "outputId": "ed8c4af0-9213-4846-e30c-97b6832691de",
        "colab": {
          "base_uri": "https://localhost:8080/",
          "height": 1000
        }
      },
      "source": [
        "fulldata.info()"
      ],
      "execution_count": 11,
      "outputs": [
        {
          "output_type": "stream",
          "text": [
            "<class 'pandas.core.frame.DataFrame'>\n",
            "Int64Index: 581012 entries, 0 to 15119\n",
            "Data columns (total 56 columns):\n",
            "Aspect                                581012 non-null int64\n",
            "Cover_Type                            15120 non-null float64\n",
            "Elevation                             581012 non-null int64\n",
            "Hillshade_3pm                         581012 non-null int64\n",
            "Hillshade_9am                         581012 non-null int64\n",
            "Hillshade_Noon                        581012 non-null int64\n",
            "Horizontal_Distance_To_Fire_Points    581012 non-null int64\n",
            "Horizontal_Distance_To_Hydrology      581012 non-null int64\n",
            "Horizontal_Distance_To_Roadways       581012 non-null int64\n",
            "Id                                    581012 non-null int64\n",
            "Slope                                 581012 non-null int64\n",
            "Soil_Type1                            581012 non-null int64\n",
            "Soil_Type10                           581012 non-null int64\n",
            "Soil_Type11                           581012 non-null int64\n",
            "Soil_Type12                           581012 non-null int64\n",
            "Soil_Type13                           581012 non-null int64\n",
            "Soil_Type14                           581012 non-null int64\n",
            "Soil_Type15                           581012 non-null int64\n",
            "Soil_Type16                           581012 non-null int64\n",
            "Soil_Type17                           581012 non-null int64\n",
            "Soil_Type18                           581012 non-null int64\n",
            "Soil_Type19                           581012 non-null int64\n",
            "Soil_Type2                            581012 non-null int64\n",
            "Soil_Type20                           581012 non-null int64\n",
            "Soil_Type21                           581012 non-null int64\n",
            "Soil_Type22                           581012 non-null int64\n",
            "Soil_Type23                           581012 non-null int64\n",
            "Soil_Type24                           581012 non-null int64\n",
            "Soil_Type25                           581012 non-null int64\n",
            "Soil_Type26                           581012 non-null int64\n",
            "Soil_Type27                           581012 non-null int64\n",
            "Soil_Type28                           581012 non-null int64\n",
            "Soil_Type29                           581012 non-null int64\n",
            "Soil_Type3                            581012 non-null int64\n",
            "Soil_Type30                           581012 non-null int64\n",
            "Soil_Type31                           581012 non-null int64\n",
            "Soil_Type32                           581012 non-null int64\n",
            "Soil_Type33                           581012 non-null int64\n",
            "Soil_Type34                           581012 non-null int64\n",
            "Soil_Type35                           581012 non-null int64\n",
            "Soil_Type36                           581012 non-null int64\n",
            "Soil_Type37                           581012 non-null int64\n",
            "Soil_Type38                           581012 non-null int64\n",
            "Soil_Type39                           581012 non-null int64\n",
            "Soil_Type4                            581012 non-null int64\n",
            "Soil_Type40                           581012 non-null int64\n",
            "Soil_Type5                            581012 non-null int64\n",
            "Soil_Type6                            581012 non-null int64\n",
            "Soil_Type7                            581012 non-null int64\n",
            "Soil_Type8                            581012 non-null int64\n",
            "Soil_Type9                            581012 non-null int64\n",
            "Vertical_Distance_To_Hydrology        581012 non-null int64\n",
            "Wilderness_Area1                      581012 non-null int64\n",
            "Wilderness_Area2                      581012 non-null int64\n",
            "Wilderness_Area3                      581012 non-null int64\n",
            "Wilderness_Area4                      581012 non-null int64\n",
            "dtypes: float64(1), int64(55)\n",
            "memory usage: 252.7 MB\n"
          ],
          "name": "stdout"
        }
      ]
    },
    {
      "cell_type": "code",
      "metadata": {
        "colab_type": "code",
        "id": "Wk2yYfMCAGvK",
        "colab": {}
      },
      "source": [
        "train.drop(['Id'],axis=1,inplace=True)\n",
        "X = train.drop(['Cover_Type'],axis =1)\n",
        "Y = train['Cover_Type']\n",
        "\n",
        "X_train, X_test, Y_train, Y_test = train_test_split(X,Y, test_size=0.3, random_state=42)"
      ],
      "execution_count": 0,
      "outputs": []
    },
    {
      "cell_type": "code",
      "metadata": {
        "colab_type": "code",
        "collapsed": true,
        "id": "RIUQGVk6FH65",
        "outputId": "70ac8ac1-d23e-413a-f12b-6df242337d6b",
        "colab": {
          "base_uri": "https://localhost:8080/",
          "height": 312
        }
      },
      "source": [
        "print(\"important features to Cover_Type\")\n",
        "corr = train.corr()\n",
        "corr.sort_values([\"Cover_Type\"], ascending=False, inplace=True)\n",
        "print(corr.Cover_Type[:15])\n",
        "MostImportant = corr.Cover_Type[:40].index\n",
        "#MostImportant = MostImportant.drop(['Cover_Type'])"
      ],
      "execution_count": 13,
      "outputs": [
        {
          "output_type": "stream",
          "text": [
            "important features to Cover_Type\n",
            "Cover_Type                        1.000000\n",
            "Soil_Type38                       0.257810\n",
            "Soil_Type39                       0.240384\n",
            "Soil_Type40                       0.205851\n",
            "Soil_Type10                       0.128972\n",
            "Wilderness_Area3                  0.122146\n",
            "Soil_Type35                       0.114327\n",
            "Slope                             0.087722\n",
            "Wilderness_Area4                  0.075774\n",
            "Vertical_Distance_To_Hydrology    0.075647\n",
            "Soil_Type37                       0.071210\n",
            "Soil_Type17                       0.042453\n",
            "Soil_Type13                       0.040528\n",
            "Soil_Type5                        0.027692\n",
            "Soil_Type36                       0.025726\n",
            "Name: Cover_Type, dtype: float64\n"
          ],
          "name": "stdout"
        }
      ]
    },
    {
      "cell_type": "code",
      "metadata": {
        "colab_type": "code",
        "id": "dRKq0wYlATK1",
        "colab": {}
      },
      "source": [
        "MLA = [\n",
        "    ensemble.AdaBoostClassifier(),\n",
        "    ensemble.ExtraTreesClassifier(),\n",
        "    ensemble.GradientBoostingClassifier(),\n",
        "    ensemble.RandomForestClassifier(),\n",
        "    #gaussian_process.GaussianProcessClassifier(),\n",
        "    linear_model.LogisticRegressionCV(),\n",
        "    linear_model.RidgeClassifierCV(),\n",
        "    linear_model.Perceptron(),\n",
        "    naive_bayes.BernoulliNB(),\n",
        "    naive_bayes.GaussianNB(),\n",
        "    neighbors.KNeighborsClassifier(),\n",
        "    #svm.SVC(probability=True),\n",
        "    #svm.NuSVC(probability=True),\n",
        "    svm.LinearSVC(),\n",
        "    tree.DecisionTreeClassifier(),\n",
        "    tree.ExtraTreeClassifier(),\n",
        "    xgb.XGBClassifier()\n",
        "    ]"
      ],
      "execution_count": 0,
      "outputs": []
    },
    {
      "cell_type": "code",
      "metadata": {
        "colab_type": "code",
        "collapsed": true,
        "id": "9KMGQcnLAUuE",
        "outputId": "899a7d72-5e22-4f3c-e83e-acffe4bbad92",
        "colab": {
          "base_uri": "https://localhost:8080/",
          "height": 1000
        }
      },
      "source": [
        "import time\n",
        "\n",
        "col = []\n",
        "algorithms = pd.DataFrame(columns = col)\n",
        "idx = 0\n",
        "\n",
        "#Train and score algorithms\n",
        "for a in MLA:\n",
        "    \n",
        "    print(a.__class__.__name__)\n",
        "    inicio = time.time()\n",
        "    print(\"Fitting..   \" )\n",
        "    a.fit(X_train, Y_train)\n",
        "    print(\"Predicting..\")\n",
        "    pred = a.predict(X_test)\n",
        "    print(\"Medindo..\")\n",
        "    acc = accuracy_score(Y_test, pred) #Other way: a.score(X_test, y_test)\n",
        "    f1 = f1_score(Y_test, pred , average ='micro')\n",
        "    cv = cross_val_score(a, X_train, Y_train).mean()\n",
        "    print(\"Acc:{} \\nF1: {}\\nCv: {}\".format(round(acc * 100, 2),round(f1 * 100, 2),round(cv * 100, 2)))\n",
        "    fim = time.time()\n",
        "    print(\"Total: \",fim - inicio)\n",
        "    print(\"-\"*25)\n",
        "    \n",
        "    Alg = a.__class__.__name__\n",
        "    \n",
        "    algorithms.loc[idx, 'Algorithm'] = Alg\n",
        "    algorithms.loc[idx, 'Accuracy'] = round(acc * 100, 2)\n",
        "    algorithms.loc[idx, 'F1 Score'] = round(f1 * 100, 2)\n",
        "    algorithms.loc[idx, 'CV Score'] = round(cv * 100, 2)\n",
        "\n",
        "    idx+=1"
      ],
      "execution_count": 15,
      "outputs": [
        {
          "output_type": "stream",
          "text": [
            "AdaBoostClassifier\n",
            "Fitting..   \n",
            "Predicting..\n",
            "Medindo..\n",
            "Acc:29.45 \n",
            "F1: 29.45\n",
            "Cv: 41.48\n",
            "Total:  3.654529094696045\n",
            "-------------------------\n",
            "ExtraTreesClassifier\n",
            "Fitting..   \n",
            "Predicting..\n",
            "Medindo..\n",
            "Acc:83.0 \n",
            "F1: 83.0\n",
            "Cv: 80.78\n",
            "Total:  0.6509702205657959\n",
            "-------------------------\n",
            "GradientBoostingClassifier\n",
            "Fitting..   \n",
            "Predicting..\n",
            "Medindo..\n",
            "Acc:80.25 \n",
            "F1: 80.25\n",
            "Cv: 78.53\n",
            "Total:  45.944560289382935\n",
            "-------------------------\n",
            "RandomForestClassifier\n",
            "Fitting..   \n",
            "Predicting..\n",
            "Medindo..\n",
            "Acc:81.77 \n",
            "F1: 81.77\n",
            "Cv: 80.18\n",
            "Total:  0.7451395988464355\n",
            "-------------------------\n",
            "LogisticRegressionCV\n",
            "Fitting..   \n",
            "Predicting..\n",
            "Medindo..\n",
            "Acc:62.35 \n",
            "F1: 62.35\n",
            "Cv: 61.81\n",
            "Total:  130.47408509254456\n",
            "-------------------------\n",
            "RidgeClassifierCV\n",
            "Fitting..   \n",
            "Predicting..\n",
            "Medindo..\n",
            "Acc:63.65 \n",
            "F1: 63.65\n",
            "Cv: 62.68\n",
            "Total:  0.33339381217956543\n",
            "-------------------------\n",
            "Perceptron\n",
            "Fitting..   \n",
            "Predicting..\n",
            "Medindo..\n",
            "Acc:33.58 \n",
            "F1: 33.58\n",
            "Cv: 36.62\n",
            "Total:  0.7601633071899414\n",
            "-------------------------\n",
            "BernoulliNB\n",
            "Fitting..   \n",
            "Predicting..\n",
            "Medindo..\n",
            "Acc:60.91 \n",
            "F1: 60.91\n",
            "Cv: 59.08\n",
            "Total:  0.10518169403076172\n",
            "-------------------------\n",
            "GaussianNB\n",
            "Fitting..   \n",
            "Predicting..\n",
            "Medindo..\n",
            "Acc:59.04 \n",
            "F1: 59.04\n",
            "Cv: 58.9\n",
            "Total:  0.15258288383483887\n",
            "-------------------------\n",
            "KNeighborsClassifier\n",
            "Fitting..   \n",
            "Predicting..\n",
            "Medindo..\n",
            "Acc:79.03 \n",
            "F1: 79.03\n",
            "Cv: 76.18\n",
            "Total:  1.2521586418151855\n",
            "-------------------------\n",
            "LinearSVC\n",
            "Fitting..   \n",
            "Predicting..\n",
            "Medindo..\n",
            "Acc:46.27 \n",
            "F1: 46.27\n",
            "Cv: 32.83\n",
            "Total:  24.064427375793457\n",
            "-------------------------\n",
            "DecisionTreeClassifier\n",
            "Fitting..   \n",
            "Predicting..\n",
            "Medindo..\n",
            "Acc:78.04 \n",
            "F1: 78.04\n",
            "Cv: 75.12\n",
            "Total:  0.49187207221984863\n",
            "-------------------------\n",
            "ExtraTreeClassifier\n",
            "Fitting..   \n",
            "Predicting..\n",
            "Medindo..\n",
            "Acc:71.45 \n",
            "F1: 71.45\n",
            "Cv: 69.13\n",
            "Total:  0.09871220588684082\n",
            "-------------------------\n",
            "XGBClassifier\n",
            "Fitting..   \n",
            "Predicting..\n",
            "Medindo..\n",
            "Acc:76.46 \n",
            "F1: 76.46\n",
            "Cv: 74.57\n",
            "Total:  38.94678568840027\n",
            "-------------------------\n"
          ],
          "name": "stdout"
        }
      ]
    },
    {
      "cell_type": "code",
      "metadata": {
        "colab_type": "code",
        "collapsed": true,
        "id": "aIYCrZ88Af1U",
        "outputId": "8bc5088d-89b5-479b-89d4-4cff561193f4",
        "colab": {
          "base_uri": "https://localhost:8080/",
          "height": 202
        }
      },
      "source": [
        "algorithms.sort_values(by = ['CV Score'], ascending = False, inplace = True)    \n",
        "algorithms.head()"
      ],
      "execution_count": 16,
      "outputs": [
        {
          "output_type": "execute_result",
          "data": {
            "text/html": [
              "<div>\n",
              "<style scoped>\n",
              "    .dataframe tbody tr th:only-of-type {\n",
              "        vertical-align: middle;\n",
              "    }\n",
              "\n",
              "    .dataframe tbody tr th {\n",
              "        vertical-align: top;\n",
              "    }\n",
              "\n",
              "    .dataframe thead th {\n",
              "        text-align: right;\n",
              "    }\n",
              "</style>\n",
              "<table border=\"1\" class=\"dataframe\">\n",
              "  <thead>\n",
              "    <tr style=\"text-align: right;\">\n",
              "      <th></th>\n",
              "      <th>Algorithm</th>\n",
              "      <th>Accuracy</th>\n",
              "      <th>F1 Score</th>\n",
              "      <th>CV Score</th>\n",
              "    </tr>\n",
              "  </thead>\n",
              "  <tbody>\n",
              "    <tr>\n",
              "      <th>1</th>\n",
              "      <td>ExtraTreesClassifier</td>\n",
              "      <td>83.00</td>\n",
              "      <td>83.00</td>\n",
              "      <td>80.78</td>\n",
              "    </tr>\n",
              "    <tr>\n",
              "      <th>3</th>\n",
              "      <td>RandomForestClassifier</td>\n",
              "      <td>81.77</td>\n",
              "      <td>81.77</td>\n",
              "      <td>80.18</td>\n",
              "    </tr>\n",
              "    <tr>\n",
              "      <th>2</th>\n",
              "      <td>GradientBoostingClassifier</td>\n",
              "      <td>80.25</td>\n",
              "      <td>80.25</td>\n",
              "      <td>78.53</td>\n",
              "    </tr>\n",
              "    <tr>\n",
              "      <th>9</th>\n",
              "      <td>KNeighborsClassifier</td>\n",
              "      <td>79.03</td>\n",
              "      <td>79.03</td>\n",
              "      <td>76.18</td>\n",
              "    </tr>\n",
              "    <tr>\n",
              "      <th>11</th>\n",
              "      <td>DecisionTreeClassifier</td>\n",
              "      <td>78.04</td>\n",
              "      <td>78.04</td>\n",
              "      <td>75.12</td>\n",
              "    </tr>\n",
              "  </tbody>\n",
              "</table>\n",
              "</div>"
            ],
            "text/plain": [
              "                     Algorithm  Accuracy  F1 Score  CV Score\n",
              "1         ExtraTreesClassifier     83.00     83.00     80.78\n",
              "3       RandomForestClassifier     81.77     81.77     80.18\n",
              "2   GradientBoostingClassifier     80.25     80.25     78.53\n",
              "9         KNeighborsClassifier     79.03     79.03     76.18\n",
              "11      DecisionTreeClassifier     78.04     78.04     75.12"
            ]
          },
          "metadata": {
            "tags": []
          },
          "execution_count": 16
        }
      ]
    },
    {
      "cell_type": "code",
      "metadata": {
        "colab_type": "code",
        "collapsed": true,
        "id": "MzHGNLeIAgI6",
        "outputId": "e94d055f-1910-478a-b795-ffad64c651b9",
        "colab": {
          "base_uri": "https://localhost:8080/",
          "height": 295
        }
      },
      "source": [
        "g = sns.barplot(\"CV Score\", \"Algorithm\", data = algorithms,palette=\"rocket\")\n",
        "g.set_xlabel(\"CV score\")\n",
        "g = g.set_title(\"Algorithm Scores\")"
      ],
      "execution_count": 17,
      "outputs": [
        {
          "output_type": "display_data",
          "data": {
            "image/png": "[encoded data removed]",
            "text/plain": [
              "<Figure size 432x288 with 1 Axes>"
            ]
          },
          "metadata": {
            "tags": []
          }
        }
      ]
    },
    {
      "cell_type": "code",
      "metadata": {
        "colab_type": "code",
        "id": "OpyoOhpEAhTC",
        "colab": {}
      },
      "source": [
        "kfold = StratifiedKFold(n_splits=10)"
      ],
      "execution_count": 0,
      "outputs": []
    },
    {
      "cell_type": "code",
      "metadata": {
        "colab_type": "code",
        "collapsed": true,
        "id": "8m2eCfzWAihl",
        "outputId": "9ce0df55-2396-4f62-951b-13934c8b14e7",
        "colab": {
          "base_uri": "https://localhost:8080/",
          "height": 87
        }
      },
      "source": [
        "rf = RandomForestClassifier()\n",
        "parameters = {'n_estimators': [300], \n",
        "              'min_samples_split': [2],\n",
        "              'min_samples_leaf': [1],\n",
        "              'random_state':[42],\n",
        "              'max_features':[.3]\n",
        "              }\n",
        "\n",
        "acc_scorer = make_scorer(accuracy_score)\n",
        "\n",
        "grid_obj = GridSearchCV(rf, parameters, scoring=acc_scorer,verbose=1,n_jobs=4,cv=kfold)\n",
        "grid_obj = grid_obj.fit(X_train, Y_train)\n",
        "#grid_obj = grid_obj.fit(X, Y) #Full data Train\n",
        "\n",
        "RF_best = grid_obj.best_estimator_\n",
        "\n",
        "# Best score\n",
        "grid_obj.best_score_\n",
        "#0.8664965986394558"
      ],
      "execution_count": 19,
      "outputs": [
        {
          "output_type": "stream",
          "text": [
            "Fitting 10 folds for each of 1 candidates, totalling 10 fits\n"
          ],
          "name": "stdout"
        },
        {
          "output_type": "stream",
          "text": [
            "[Parallel(n_jobs=4)]: Using backend LokyBackend with 4 concurrent workers.\n",
            "[Parallel(n_jobs=4)]: Done  10 out of  10 | elapsed:  1.2min finished\n"
          ],
          "name": "stderr"
        },
        {
          "output_type": "execute_result",
          "data": {
            "text/plain": [
              "0.8534580498866213"
            ]
          },
          "metadata": {
            "tags": []
          },
          "execution_count": 19
        }
      ]
    },
    {
      "cell_type": "code",
      "metadata": {
        "colab_type": "code",
        "collapsed": true,
        "id": "IzW-KZLAAjnS",
        "outputId": "0896c7f2-de3f-48b3-c361-d84b9f65ec6b",
        "colab": {
          "base_uri": "https://localhost:8080/",
          "height": 35
        }
      },
      "source": [
        "RF_best.score(X_test,Y_test)"
      ],
      "execution_count": 20,
      "outputs": [
        {
          "output_type": "execute_result",
          "data": {
            "text/plain": [
              "0.86331569664903"
            ]
          },
          "metadata": {
            "tags": []
          },
          "execution_count": 20
        }
      ]
    },
    {
      "cell_type": "code",
      "metadata": {
        "colab_type": "code",
        "id": "YrQitrYoGVYy",
        "colab": {}
      },
      "source": [
        "RF_pred = RF_best.predict(X_test)"
      ],
      "execution_count": 0,
      "outputs": []
    },
    {
      "cell_type": "code",
      "metadata": {
        "colab_type": "code",
        "id": "TfMqAPObAl69",
        "colab": {}
      },
      "source": [
        "RF_prob = RF_best.predict_proba(X_test)"
      ],
      "execution_count": 0,
      "outputs": []
    },
    {
      "cell_type": "code",
      "metadata": {
        "colab_type": "code",
        "id": "xlvKtG4iDOtS",
        "colab": {}
      },
      "source": [
        "from sklearn.preprocessing import label_binarize\n",
        "Target_binary = label_binarize(Y_test, classes=[1, 2, 3, 4, 5, 6, 7])"
      ],
      "execution_count": 0,
      "outputs": []
    },
    {
      "cell_type": "code",
      "metadata": {
        "colab_type": "code",
        "id": "S-fKv_BkKABB",
        "colab": {}
      },
      "source": [
        "def Plot_ROC(Target,Proba,classes):\n",
        "    Target_binary = label_binarize(Target, classes=classes)\n",
        "    fpr = dict()\n",
        "    tpr = dict()\n",
        "    roc_auc = dict()\n",
        "    n_classes = Proba.shape[1]\n",
        "    lw=1\n",
        "    for i in range(n_classes):\n",
        "        fpr[i], tpr[i], _ = roc_curve(Target_binary[:, i], Proba[:, i])\n",
        "        roc_auc[i] = auc(fpr[i], tpr[i])\n",
        "    \n",
        "    colors = cycle(['aqua', 'darkorange', 'cornflowerblue','red','blue','black','green'])\n",
        "    for i, color in zip(range(n_classes), colors):\n",
        "        plt.plot(fpr[i], tpr[i], color=color, lw=lw,label='ROC curve of class {0} (area = {1:0.2f})'''.format(i, roc_auc[i]))\n",
        "\n",
        "    plt.plot([0, 1], [0, 1], color='navy', lw=lw, linestyle='--')\n",
        "    plt.xlim([-0.01, 1.02])\n",
        "    plt.ylim([-0.01, 1.02])\n",
        "    plt.xlabel('False Positive Rate')\n",
        "    plt.ylabel('True Positive Rate')\n",
        "    plt.title('Receiver operating characteristic example')\n",
        "    plt.legend(loc=\"lower right\")\n",
        "    plt.show()\n",
        "\n",
        "    \n",
        "def plot_confusion_matrix(y_true, y_pred, classes,\n",
        "                          normalize=False,\n",
        "                          title=None,\n",
        "                          cmap=plt.cm.Blues):\n",
        "    \"\"\"\n",
        "    This function prints and plots the confusion matrix.\n",
        "    Normalization can be applied by setting `normalize=True`.\n",
        "    \"\"\"\n",
        "    if not title:\n",
        "        if normalize:\n",
        "            title = 'Normalized confusion matrix'\n",
        "        else:\n",
        "            title = 'Confusion matrix, without normalization'\n",
        "\n",
        "    # Compute confusion matrix\n",
        "    cm = confusion_matrix(y_true, y_pred)\n",
        "    # Only use the labels that appear in the data\n",
        "    #classes = classes[unique_labels(y_true, y_pred)]\n",
        "    if normalize:\n",
        "        cm = cm.astype('float') / cm.sum(axis=1)[:, np.newaxis]\n",
        "        #print(\"Normalized confusion matrix\")\n",
        "    #else:\n",
        "        #print('Confusion matrix, without normalization')\n",
        "\n",
        "    #print(cm)\n",
        "\n",
        "    fig, ax = plt.subplots()\n",
        "    im = ax.imshow(cm, interpolation='nearest', cmap=cmap)\n",
        "    ax.figure.colorbar(im, ax=ax)\n",
        "    # We want to show all ticks...\n",
        "    ax.set(xticks=np.arange(cm.shape[1]),\n",
        "           yticks=np.arange(cm.shape[0]),\n",
        "           # ... and label them with the respective list entries\n",
        "           xticklabels=classes, yticklabels=classes,\n",
        "           title=title,\n",
        "           ylabel='True label',\n",
        "           xlabel='Predicted label')\n",
        "\n",
        "    # Rotate the tick labels and set their alignment.\n",
        "    plt.setp(ax.get_xticklabels(), rotation=45, ha=\"right\",rotation_mode=\"anchor\")\n",
        "\n",
        "    # Loop over data dimensions and create text annotations.\n",
        "    fmt = '.2f' if normalize else 'd'\n",
        "    thresh = cm.max() / 2.\n",
        "    for i in range(cm.shape[0]):\n",
        "        for j in range(cm.shape[1]):\n",
        "            ax.text(j, i, format(cm[i, j], fmt),\n",
        "                    ha=\"center\", va=\"center\",\n",
        "                    color=\"white\" if cm[i, j] > thresh else \"black\")\n",
        "    fig.tight_layout()\n",
        "    \n",
        "    return ax"
      ],
      "execution_count": 0,
      "outputs": []
    },
    {
      "cell_type": "code",
      "metadata": {
        "colab_type": "code",
        "collapsed": true,
        "id": "mgs-XlMhF1Kn",
        "outputId": "b6d95417-0d88-410d-da36-bed6a9d83358",
        "colab": {
          "base_uri": "https://localhost:8080/",
          "height": 855
        }
      },
      "source": [
        "np.set_printoptions(precision=2)\n",
        "\n",
        "Plot_ROC(Y_test,RF_prob,[1,2,3,4,5,6,7])\n",
        "\n",
        "class_names = ['1','2','3','4','5','6','7']\n",
        "\n",
        "# Plot non-normalized confusion matrix\n",
        "plot_confusion_matrix(Y_test, RF_pred, classes=class_names,title='Confusion matrix, without normalization')\n",
        "\n",
        "# Plot normalized confusion matrix\n",
        "plot_confusion_matrix(Y_test, RF_pred, classes=class_names, normalize=True,title='Normalized confusion matrix')\n",
        "\n",
        "plt.show()"
      ],
      "execution_count": 27,
      "outputs": [
        {
          "output_type": "display_data",
          "data": {
            "image/png": "[encoded data removed]",
            "text/plain": [
              "<Figure size 432x288 with 1 Axes>"
            ]
          },
          "metadata": {
            "tags": []
          }
        },
        {
          "output_type": "display_data",
          "data": {
            "image/png": "[encoded data removed]",
            "text/plain": [
              "<Figure size 432x288 with 2 Axes>"
            ]
          },
          "metadata": {
            "tags": []
          }
        },
        {
          "output_type": "display_data",
          "data": {
            "image/png": "[encoded data removed]",
            "text/plain": [
              "<Figure size 432x288 with 2 Axes>"
            ]
          },
          "metadata": {
            "tags": []
          }
        }
      ]
    },
    {
      "cell_type": "code",
      "metadata": {
        "colab_type": "code",
        "collapsed": true,
        "id": "P28e-Zl7Ds1a",
        "colab": {}
      },
      "source": [
        "ExTrC = ensemble.ExtraTreesClassifier()\n",
        "ExTrC.get_params\n",
        "parm={\n",
        "    'n_estimators':[100,130,150,190],\n",
        "    'criterion':['gini']\n",
        "}\n",
        "\n",
        "acc_scorer = make_scorer(accuracy_score)\n",
        "\n",
        "grid_obj = GridSearchCV(ExTrC, parm, scoring=acc_scorer,verbose=1,n_jobs=4,cv=kfold)\n",
        "grid_obj = grid_obj.fit(X_train, Y_train)\n",
        "#grid_obj = grid_obj.fit(X, Y) #Full data Train\n",
        "\n",
        "ExTrC_best = grid_obj.best_estimator_\n",
        "\n",
        "# Best score\n",
        "grid_obj.best_score_\n",
        "#0.8533635676492819"
      ],
      "execution_count": 0,
      "outputs": []
    },
    {
      "cell_type": "code",
      "metadata": {
        "colab_type": "code",
        "collapsed": true,
        "id": "42U6KNrvYN6e",
        "colab": {}
      },
      "source": [
        "ExTrC_best.score(X_test,Y_test)"
      ],
      "execution_count": 0,
      "outputs": []
    },
    {
      "cell_type": "code",
      "metadata": {
        "colab_type": "code",
        "id": "46mki3K2NrDV",
        "colab": {}
      },
      "source": [
        "ExTrC_proba = ExTrC_best.predict_proba(X_test)\n",
        "ExTrC_pred = ExTrC_best.predict(X_test)"
      ],
      "execution_count": 0,
      "outputs": []
    },
    {
      "cell_type": "code",
      "metadata": {
        "colab_type": "code",
        "collapsed": true,
        "id": "oTUJz5sm09xs",
        "colab": {}
      },
      "source": [
        "np.set_printoptions(precision=2)\n",
        "\n",
        "Plot_ROC(Y_test,ExTrC_proba,[1,2,3,4,5,6,7])\n",
        "\n",
        "# Plot non-normalized confusion matrix\n",
        "plot_confusion_matrix(Y_test, ExTrC_pred, classes=class_names,title='Confusion matrix, without normalization')\n",
        "\n",
        "# Plot normalized confusion matrix\n",
        "plot_confusion_matrix(Y_test, ExTrC_pred, classes=class_names, normalize=True,title='Normalized confusion matrix')\n",
        "\n",
        "plt.show()"
      ],
      "execution_count": 0,
      "outputs": []
    },
    {
      "cell_type": "code",
      "metadata": {
        "colab_type": "code",
        "id": "DDi3Evo5Tf2n",
        "colab": {}
      },
      "source": [
        "pred = ExTrC_best.predict(test.drop(['Id'],axis=1))\n",
        "\n",
        "results = pd.DataFrame({\"Id\": test[\"Id\"].astype('Int32'), \"Cover_Type\": pred})\n",
        "results.to_csv(\"Florest_V3.csv\", index=False)"
      ],
      "execution_count": 0,
      "outputs": []
    },
    {
      "cell_type": "code",
      "metadata": {
        "colab_type": "code",
        "id": "FK-GDK0AT-qT",
        "colab": {}
      },
      "source": [
        ""
      ],
      "execution_count": 0,
      "outputs": []
    }
  ]
}